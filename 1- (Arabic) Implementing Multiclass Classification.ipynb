{
 "cells": [
  {
   "cell_type": "markdown",
   "metadata": {},
   "source": [
    "# (Arabic) Recipe 5-1. Implementing Multiclass Classification"
   ]
  },
  {
   "cell_type": "markdown",
   "metadata": {},
   "source": [
    "###  Import the libraries"
   ]
  },
  {
   "cell_type": "code",
   "execution_count": 1,
   "metadata": {},
   "outputs": [],
   "source": [
    "import pandas as pd"
   ]
  },
  {
   "cell_type": "markdown",
   "metadata": {},
   "source": [
    "### import data"
   ]
  },
  {
   "cell_type": "code",
   "execution_count": 2,
   "metadata": {},
   "outputs": [],
   "source": [
    "Data = pd.read_csv(\"arabic_dataset_classifiction.csv\", encoding='utf-8')"
   ]
  },
  {
   "cell_type": "markdown",
   "metadata": {},
   "source": [
    "dataset source : [DataSet for Arabic Classification](https://data.mendeley.com/datasets/v524p5dhpj/2) <br>\n",
    "it is collected from 3 Arabic online newspapers: Assabah, Hespress and Akhbarona using semi-automatic web crawling process."
   ]
  },
  {
   "cell_type": "markdown",
   "metadata": {},
   "source": [
    "### Data understanding"
   ]
  },
  {
   "cell_type": "code",
   "execution_count": 3,
   "metadata": {
    "scrolled": true
   },
   "outputs": [
    {
     "data": {
      "text/html": [
       "<div>\n",
       "<style scoped>\n",
       "    .dataframe tbody tr th:only-of-type {\n",
       "        vertical-align: middle;\n",
       "    }\n",
       "\n",
       "    .dataframe tbody tr th {\n",
       "        vertical-align: top;\n",
       "    }\n",
       "\n",
       "    .dataframe thead th {\n",
       "        text-align: right;\n",
       "    }\n",
       "</style>\n",
       "<table border=\"1\" class=\"dataframe\">\n",
       "  <thead>\n",
       "    <tr style=\"text-align: right;\">\n",
       "      <th></th>\n",
       "      <th>text</th>\n",
       "      <th>targe</th>\n",
       "    </tr>\n",
       "  </thead>\n",
       "  <tbody>\n",
       "    <tr>\n",
       "      <th>0</th>\n",
       "      <td>بين أستوديوهات ورزازات وصحراء مرزوكة وآثار ولي...</td>\n",
       "      <td>0</td>\n",
       "    </tr>\n",
       "    <tr>\n",
       "      <th>1</th>\n",
       "      <td>قررت النجمة الأمريكية أوبرا وينفري ألا يقتصر ع...</td>\n",
       "      <td>0</td>\n",
       "    </tr>\n",
       "    <tr>\n",
       "      <th>2</th>\n",
       "      <td>أخبارنا المغربية الوزاني تصوير الشملالي ألهب ا...</td>\n",
       "      <td>0</td>\n",
       "    </tr>\n",
       "    <tr>\n",
       "      <th>3</th>\n",
       "      <td>اخبارنا المغربية قال ابراهيم الراشدي محامي سعد...</td>\n",
       "      <td>0</td>\n",
       "    </tr>\n",
       "    <tr>\n",
       "      <th>4</th>\n",
       "      <td>تزال صناعة الجلود في المغرب تتبع الطريقة التقل...</td>\n",
       "      <td>0</td>\n",
       "    </tr>\n",
       "  </tbody>\n",
       "</table>\n",
       "</div>"
      ],
      "text/plain": [
       "                                                text  targe\n",
       "0  بين أستوديوهات ورزازات وصحراء مرزوكة وآثار ولي...      0\n",
       "1  قررت النجمة الأمريكية أوبرا وينفري ألا يقتصر ع...      0\n",
       "2  أخبارنا المغربية الوزاني تصوير الشملالي ألهب ا...      0\n",
       "3  اخبارنا المغربية قال ابراهيم الراشدي محامي سعد...      0\n",
       "4  تزال صناعة الجلود في المغرب تتبع الطريقة التقل...      0"
      ]
     },
     "execution_count": 3,
     "metadata": {},
     "output_type": "execute_result"
    }
   ],
   "source": [
    "Data.head()"
   ]
  },
  {
   "cell_type": "code",
   "execution_count": 4,
   "metadata": {
    "scrolled": true
   },
   "outputs": [],
   "source": [
    "Data.rename(columns={\"targe\": \"Target\", \"text\": \"Text\"}, inplace = True)"
   ]
  },
  {
   "cell_type": "code",
   "execution_count": 5,
   "metadata": {},
   "outputs": [
    {
     "data": {
      "text/html": [
       "<div>\n",
       "<style scoped>\n",
       "    .dataframe tbody tr th:only-of-type {\n",
       "        vertical-align: middle;\n",
       "    }\n",
       "\n",
       "    .dataframe tbody tr th {\n",
       "        vertical-align: top;\n",
       "    }\n",
       "\n",
       "    .dataframe thead th {\n",
       "        text-align: right;\n",
       "    }\n",
       "</style>\n",
       "<table border=\"1\" class=\"dataframe\">\n",
       "  <thead>\n",
       "    <tr style=\"text-align: right;\">\n",
       "      <th></th>\n",
       "      <th>Text</th>\n",
       "      <th>Target</th>\n",
       "    </tr>\n",
       "  </thead>\n",
       "  <tbody>\n",
       "    <tr>\n",
       "      <th>0</th>\n",
       "      <td>بين أستوديوهات ورزازات وصحراء مرزوكة وآثار ولي...</td>\n",
       "      <td>0</td>\n",
       "    </tr>\n",
       "    <tr>\n",
       "      <th>1</th>\n",
       "      <td>قررت النجمة الأمريكية أوبرا وينفري ألا يقتصر ع...</td>\n",
       "      <td>0</td>\n",
       "    </tr>\n",
       "    <tr>\n",
       "      <th>2</th>\n",
       "      <td>أخبارنا المغربية الوزاني تصوير الشملالي ألهب ا...</td>\n",
       "      <td>0</td>\n",
       "    </tr>\n",
       "    <tr>\n",
       "      <th>3</th>\n",
       "      <td>اخبارنا المغربية قال ابراهيم الراشدي محامي سعد...</td>\n",
       "      <td>0</td>\n",
       "    </tr>\n",
       "    <tr>\n",
       "      <th>4</th>\n",
       "      <td>تزال صناعة الجلود في المغرب تتبع الطريقة التقل...</td>\n",
       "      <td>0</td>\n",
       "    </tr>\n",
       "  </tbody>\n",
       "</table>\n",
       "</div>"
      ],
      "text/plain": [
       "                                                Text  Target\n",
       "0  بين أستوديوهات ورزازات وصحراء مرزوكة وآثار ولي...       0\n",
       "1  قررت النجمة الأمريكية أوبرا وينفري ألا يقتصر ع...       0\n",
       "2  أخبارنا المغربية الوزاني تصوير الشملالي ألهب ا...       0\n",
       "3  اخبارنا المغربية قال ابراهيم الراشدي محامي سعد...       0\n",
       "4  تزال صناعة الجلود في المغرب تتبع الطريقة التقل...       0"
      ]
     },
     "execution_count": 5,
     "metadata": {},
     "output_type": "execute_result"
    }
   ],
   "source": [
    "Data.head()"
   ]
  },
  {
   "cell_type": "code",
   "execution_count": 6,
   "metadata": {},
   "outputs": [
    {
     "data": {
      "text/plain": [
       "(111728, 2)"
      ]
     },
     "execution_count": 6,
     "metadata": {},
     "output_type": "execute_result"
    }
   ],
   "source": [
    "Data.shape"
   ]
  },
  {
   "cell_type": "code",
   "execution_count": 7,
   "metadata": {
    "scrolled": true
   },
   "outputs": [
    {
     "data": {
      "text/plain": [
       "array([0, 1, 2, 3, 4], dtype=int64)"
      ]
     },
     "execution_count": 7,
     "metadata": {},
     "output_type": "execute_result"
    }
   ],
   "source": [
    "Data['Target'].unique()"
   ]
  },
  {
   "cell_type": "code",
   "execution_count": 8,
   "metadata": {},
   "outputs": [
    {
     "data": {
      "text/plain": [
       "Text      object\n",
       "Target     int64\n",
       "dtype: object"
      ]
     },
     "execution_count": 8,
     "metadata": {},
     "output_type": "execute_result"
    }
   ],
   "source": [
    "Data.dtypes"
   ]
  },
  {
   "cell_type": "code",
   "execution_count": 20,
   "metadata": {
    "scrolled": true
   },
   "outputs": [
    {
     "data": {
      "text/plain": [
       "'قالت إنها انتظرت خمس سنوات لتشارك فد قالت الفنانة بديعة الصنهاجي تتقمص دور عبلة سيتكوم ديما جيران شاشة القناة الثانية قلة أعمالها التلفزيونية راجعة عدم تفكيرها الاحتراف تخرجها معهد الفن المسرحي والتنشيط الثقافي وأضافت بديعة تصريح الصباح دراستها المسرح لمدة سبع سنوات كانت باب الهواية مشيرة أنها ركزت أثناء دراستها تجسيد أدوار باللغة الفرنسية لمسرحيات كلاسيكية لموليير وتشيكوف وكان أول ظهور لبديعة الصنهاجي شاشة التلفزيون رفقة المخرج نور الدين لخماري السلسلة البوليسية القضية تولى أصدقائها مهمة اقتراحها للعمل وأوضحت الصنهاجي بخصوص دورها سلسلة القضية أنه الشخصيات تعتز بتقمصها رغم أنه الأدوار الثانوية مضيفة بحكم وظيفتها يكن ممكنا بالنسبة إليها الغياب لمدة طويلة العمل احتراف الفن أمر صعب وهذا جعلني بعيدة لعدة سنوات عنه ارتباطي بعملي مجالي التسويق والاتصال مجال الوكالات العقارية ساهم تقول بديعة أسباب تأخرها دخول المجال الفني وأكدت بديعة أنها المعجبات بأداء الفنان حسن الفد فبعد عرض السلسلة الفكاهية شانيلي سنة بحثت رقمه الهاتفي وطلبت باعتبارها طالبة بالمعهد المسرحي يسند إليها أحد الأدوار عمل جديد وانتظرت الفنانة بديعة الصنهاجي خمس سنوات تلقيها وعدا الفنان حسن الفد العمل رفقته مؤكدة الصدد أنه يكن بالنسبة إليها العمل أجل الظهور والانتشار البحث ربح مالي بقدر كان تقديم عمل مميز ووصفت بديعة تجربتها الفنان حسن الفد سلسلة فد بالمهمة قدمت ضمنها أدوارا كان الممكن تؤديها مدار عشر سنوات حلقة كانت تتقمص شخصيتين ثلاث شخصيات ووجدت الفنانة بديعة الصنهاجي نفسها أمام اختيار صعب عرض عليها العمل مسلسل زينة الحياة يعرض حاليا شاشة القناة الأولى لكنها حسمت الأمر واختارت التخلي وظيفتها والتفرغ بشكل نهائي لمجال التمثيل خاصة تصوير دورها استغرق أربعة أشهر وعن دورها سيتكوم ديما جيران تقول عبلة الشخصيات الفكاهية تكن تتوانى أثناء تقمصها أخذ رأي الطاقم الفني والتقني للعمل حول أدائها وملاحظاتهم حولها مضيفة أنها دائما كان ينتابها شك أمر إيجابي بالنسبة فنان حد قولها يرغب تطوير مستواه وتقديم الأفضل أمينة كندي'"
      ]
     },
     "execution_count": 20,
     "metadata": {},
     "output_type": "execute_result"
    }
   ],
   "source": [
    "Data[Data['Target'] == 0].Text.iloc[350]"
   ]
  },
  {
   "cell_type": "markdown",
   "metadata": {},
   "source": [
    "by observing the content, i realized that the labels are represntative of the following <br>\n",
    "- 0 celebrities <br>\n",
    "- 1 crimes <br>\n",
    "- 2 economy <br>\n",
    "- 3 politics <br>\n",
    "- 4 sports"
   ]
  },
  {
   "cell_type": "code",
   "execution_count": 38,
   "metadata": {},
   "outputs": [],
   "source": [
    "categories = {\n",
    "              0 : 'celebrities', \n",
    "              1 : 'crimes', \n",
    "              2 : 'economy', \n",
    "              3 : 'politics', \n",
    "              4 : 'sports'\n",
    "             }"
   ]
  },
  {
   "cell_type": "code",
   "execution_count": 11,
   "metadata": {},
   "outputs": [
    {
     "data": {
      "text/plain": [
       "Text      2939\n",
       "Target       0\n",
       "dtype: int64"
      ]
     },
     "execution_count": 11,
     "metadata": {},
     "output_type": "execute_result"
    }
   ],
   "source": [
    "# check for null values\n",
    "pd.isnull(Data).sum()"
   ]
  },
  {
   "cell_type": "code",
   "execution_count": 12,
   "metadata": {},
   "outputs": [],
   "source": [
    "# Selecting non null data\n",
    "Data = Data[pd.notnull(Data['Text'])]"
   ]
  },
  {
   "cell_type": "code",
   "execution_count": 13,
   "metadata": {},
   "outputs": [
    {
     "data": {
      "text/plain": [
       "(108789, 2)"
      ]
     },
     "execution_count": 13,
     "metadata": {},
     "output_type": "execute_result"
    }
   ],
   "source": [
    "Data.shape"
   ]
  },
  {
   "cell_type": "code",
   "execution_count": 14,
   "metadata": {},
   "outputs": [
    {
     "data": {
      "text/plain": [
       "Target\n",
       "4    43675\n",
       "3    20485\n",
       "1    16728\n",
       "2    14165\n",
       "0    13736\n",
       "Name: Text, dtype: int64"
      ]
     },
     "execution_count": 14,
     "metadata": {},
     "output_type": "execute_result"
    }
   ],
   "source": [
    "Data.groupby('Target').Text.count().sort_values(ascending=False)"
   ]
  },
  {
   "cell_type": "code",
   "execution_count": 39,
   "metadata": {
    "scrolled": true
   },
   "outputs": [
    {
     "data": {
      "image/png": "[encoded data removed]",
      "text/plain": [
       "<Figure size 288x216 with 1 Axes>"
      ]
     },
     "metadata": {
      "needs_background": "light"
     },
     "output_type": "display_data"
    }
   ],
   "source": [
    "# Lets plot it and see\n",
    "\n",
    "import matplotlib.pyplot as plt\n",
    "\n",
    "fig = plt.figure(figsize=(4,3))\n",
    "Data.groupby('Target').Text.count().sort_values(ascending=False).plot(kind='barh') # for each product, how many complaints\n",
    "ax = plt.gca()\n",
    "\n",
    "labels = []\n",
    "for item in ax.get_yticklabels():\n",
    "    labels.append(categories[int(item.get_text())])\n",
    "ax.set_yticklabels(labels) # note below\n",
    "plt.show()"
   ]
  },
  {
   "cell_type": "markdown",
   "metadata": {},
   "source": [
    "- **note:** in the previous cell, i couldnot just make `ax.set_yticklabels(categories.values())` b/c the order of the label in the returned list (from the previous instruction) will be different than the actual order of labels that should be shown on the plot\n",
    "    - note that this mismatch of labels happens due to the sorting operation in the previous cell"
   ]
  },
  {
   "cell_type": "markdown",
   "metadata": {},
   "source": [
    "### preprocessing"
   ]
  },
  {
   "cell_type": "code",
   "execution_count": 17,
   "metadata": {},
   "outputs": [],
   "source": [
    "# remove stop words\n",
    "from nltk.corpus import stopwords\n",
    "stop = stopwords.words('arabic')\n",
    "\n",
    "Data['Text'] = Data['Text'].apply(lambda x: \" \".join(x for x in x.split() if x not in stop))"
   ]
  },
  {
   "cell_type": "code",
   "execution_count": 19,
   "metadata": {
    "scrolled": false
   },
   "outputs": [],
   "source": [
    "import re\n",
    "\n",
    "# remove punctuation and multiple spaces\n",
    "pattern_punctuation = '[^a-zA-z0-9ء-ي\\s]' # for punctuation (not numeric nor arabic nor english letters)\n",
    "pattern_multi_spaces = '[ ]{2,}'\n",
    "\n",
    "Data['Text'] = Data['Text'].apply(lambda x: re.sub(pattern_punctuation, '' , x))\n",
    "Data['Text'] = Data['Text'].apply(lambda x: re.sub(pattern_multi_spaces, ' ' , x))"
   ]
  },
  {
   "cell_type": "markdown",
   "metadata": {},
   "source": [
    "### Splitting the data"
   ]
  },
  {
   "cell_type": "code",
   "execution_count": 21,
   "metadata": {},
   "outputs": [],
   "source": [
    "from sklearn import model_selection\n",
    "train_x, valid_x, train_y, valid_y = model_selection.train_test_split(Data['Text'], Data['Target'])"
   ]
  },
  {
   "cell_type": "markdown",
   "metadata": {},
   "source": [
    "### Feature engineering using TF-IDF"
   ]
  },
  {
   "cell_type": "markdown",
   "metadata": {},
   "source": [
    "Here we consider maximum features to be 5000."
   ]
  },
  {
   "cell_type": "code",
   "execution_count": 22,
   "metadata": {},
   "outputs": [],
   "source": [
    "from sklearn.feature_extraction.text import TfidfVectorizer\n",
    "\n",
    "tfidf_vect = TfidfVectorizer(analyzer='word', token_pattern=r'\\w{1,}', max_features=5000)\n",
    "tfidf_vect.fit(Data['Text'])\n",
    "\n",
    "xtrain_tfidf = tfidf_vect.transform(train_x)\n",
    "xvalid_tfidf = tfidf_vect.transform(valid_x)"
   ]
  },
  {
   "cell_type": "markdown",
   "metadata": {},
   "source": [
    "**note:** tokenization is done in the tfidf step (i did not make it manually)"
   ]
  },
  {
   "cell_type": "markdown",
   "metadata": {},
   "source": [
    "### Model building and evaluation"
   ]
  },
  {
   "cell_type": "code",
   "execution_count": 40,
   "metadata": {},
   "outputs": [
    {
     "name": "stdout",
     "output_type": "stream",
     "text": [
      "Accuracy:  0.9515773218619016\n",
      "             precision    recall  f1-score   support\n",
      "\n",
      "celebrities       0.96      0.93      0.95      3372\n",
      "     crimes       0.95      0.97      0.96      4232\n",
      "    economy       0.90      0.89      0.90      3503\n",
      "   politics       0.90      0.91      0.91      5213\n",
      "     sports       0.99      0.99      0.99     10878\n",
      "\n",
      "avg / total       0.95      0.95      0.95     27198\n",
      "\n"
     ]
    }
   ],
   "source": [
    "from sklearn import linear_model, metrics\n",
    "from sklearn.linear_model import LogisticRegression\n",
    "\n",
    "model = linear_model.LogisticRegression().fit(xtrain_tfidf, train_y)\n",
    "\n",
    "# Model summary\n",
    "LogisticRegression(C=1.0, class_weight=None, dual=False, fit_intercept=True, \\\n",
    "                   intercept_scaling=1, max_iter=100, multi_class='ovr',n_jobs=1, \\\n",
    "                   penalty='l2', random_state=None, solver='liblinear', tol=0.0001,verbose=0, warm_start=False)\n",
    "\n",
    "# Checking accuracy\n",
    "accuracy = metrics.accuracy_score(model.predict(xvalid_tfidf), valid_y)\n",
    "print (\"Accuracy: \", accuracy)\n",
    "\n",
    "# Classification report\n",
    "print(metrics.classification_report(valid_y, model.predict(xvalid_tfidf), target_names= categories.values()))     "
   ]
  },
  {
   "cell_type": "code",
   "execution_count": 41,
   "metadata": {
    "scrolled": false
   },
   "outputs": [
    {
     "data": {
      "image/png": "[encoded data removed]",
      "text/plain": [
       "<Figure size 576x432 with 2 Axes>"
      ]
     },
     "metadata": {
      "needs_background": "light"
     },
     "output_type": "display_data"
    }
   ],
   "source": [
    "#confusion matrix\n",
    "conf_mat = metrics.confusion_matrix(valid_y, model.predict(xvalid_tfidf))\n",
    "\n",
    "from sklearn.preprocessing import normalize\n",
    "\n",
    "normalized_conf_mat = (normalize(conf_mat, axis=1, norm='l1')*100).astype(int) #me ahmed: i will show the percentage instead of raw count, b/c the records in classes are not balanced\n",
    "\n",
    "import seaborn as sns\n",
    "# Vizualizing confusion matrix\n",
    "fig, ax = plt.subplots(figsize=(8,6))\n",
    "sns.heatmap(normalized_conf_mat, annot=True, fmt='d', cmap=\"BuPu\", \\\n",
    "            xticklabels=categories.values(), \\\n",
    "            yticklabels=categories.values())\n",
    "\n",
    "plt.ylabel('Actual')\n",
    "plt.xlabel('Predicted')\n",
    "plt.show()"
   ]
  },
  {
   "cell_type": "code",
   "execution_count": 53,
   "metadata": {},
   "outputs": [
    {
     "name": "stdout",
     "output_type": "stream",
     "text": [
      "['سيقام كأس العالم القادم فى قطر']\n",
      " - Predicted as: 'sports'\n"
     ]
    }
   ],
   "source": [
    "# Prediction example\n",
    "texts = ['سيقام كأس العالم القادم فى قطر']\n",
    "\n",
    "print(texts)\n",
    "\n",
    "text_features = tfidf_vect.transform(texts)\n",
    "predictions = model.predict(text_features)\n",
    "\n",
    "print(\" - Predicted as: '{}'\".format(categories[predictions[0]]))"
   ]
  },
  {
   "cell_type": "markdown",
   "metadata": {},
   "source": [
    "### my addition : interpret the model"
   ]
  },
  {
   "cell_type": "markdown",
   "metadata": {},
   "source": [
    "interpreting the model is my addition (it does not exits in the textbook)"
   ]
  },
  {
   "cell_type": "code",
   "execution_count": 60,
   "metadata": {},
   "outputs": [
    {
     "data": {
      "text/plain": [
       "(5, 5000)"
      ]
     },
     "execution_count": 60,
     "metadata": {},
     "output_type": "execute_result"
    }
   ],
   "source": [
    "model.coef_.shape"
   ]
  },
  {
   "cell_type": "markdown",
   "metadata": {},
   "source": [
    "**note** LR when used in multiclass classification, is done by one-vs-rest for each class, that's why I have 5 linear equation, one equation for each class-vs-rest. <br>\n",
    "so, i suppose, when a new input come to have a prediction, the new input features is multiplied by each of the four equations `dot(new_input, LR_model.coef_) + LR_model.intercept_`, then we get five predictions from each equation by apply sigmoid to the previous product, and lastly, we take the largest prediction to be our answer."
   ]
  },
  {
   "cell_type": "code",
   "execution_count": 63,
   "metadata": {},
   "outputs": [
    {
     "data": {
      "text/plain": [
       "5000"
      ]
     },
     "execution_count": 63,
     "metadata": {},
     "output_type": "execute_result"
    }
   ],
   "source": [
    "len(tfidf_vect.vocabulary_)"
   ]
  },
  {
   "cell_type": "code",
   "execution_count": 79,
   "metadata": {},
   "outputs": [
    {
     "name": "stdout",
     "output_type": "stream",
     "text": [
      "top words/features for class  celebrities  is:  ['البرنامج', 'الثقافي', 'الثقافة', 'الفنانة', 'الفنان']\n",
      "top words/features for class  crimes  is:  ['القضائية', 'قبل', 'لهسبريس', 'هسبريس', 'عناصر']\n",
      "top words/features for class  economy  is:  ['البنك', 'أسعار', 'السوق', 'المقاولات', 'شركة']\n",
      "top words/features for class  politics  is:  ['السياسي', 'لحزب', 'الملك', 'حزب', 'الحزب']\n",
      "top words/features for class  sports  is:  ['الجامعة', 'كأس', 'الفريق', 'القدم', 'الرياضي']\n"
     ]
    }
   ],
   "source": [
    "import numpy as np\n",
    "\n",
    "for i in range(len(categories)):\n",
    "    class_ = categories[i]\n",
    "    top_5_idx = np.argsort(model.coef_[i])[-5:]\n",
    "    top_5_words = []\n",
    "    \n",
    "    for idx in top_5_idx:\n",
    "        top_5_words.append(tfidf_vect.get_feature_names()[idx])\n",
    "        \n",
    "    \n",
    "    print('top words/features for class ',class_, ' is: ', top_5_words)\n",
    "    \n",
    "    \n"
   ]
  },
  {
   "cell_type": "markdown",
   "metadata": {},
   "source": [
    "### further iterations for improvement:\n",
    "- see what the model sees, how it does its prediction\n",
    "- try differnet n-grams and different options for the tfidf\n",
    "- use differnet classical models (Random Forest, SVM, GBM, Neural Networks, Naive Bayes)\n",
    "- use different feature representation\n",
    "    - bag of words\n",
    "    - word embeddings\n",
    "    - character embeddings\n",
    "- use deep learning methods (RNN, LSTM)"
   ]
  }
 ],
 "metadata": {
  "kernelspec": {
   "display_name": "Python 3",
   "language": "python",
   "name": "python3"
  },
  "language_info": {
   "codemirror_mode": {
    "name": "ipython",
    "version": 3
   },
   "file_extension": ".py",
   "mimetype": "text/x-python",
   "name": "python",
   "nbconvert_exporter": "python",
   "pygments_lexer": "ipython3",
   "version": "3.7.0"
  }
 },
 "nbformat": 4,
 "nbformat_minor": 2
}
