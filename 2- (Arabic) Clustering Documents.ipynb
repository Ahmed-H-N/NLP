{
 "cells": [
  {
   "cell_type": "markdown",
   "metadata": {},
   "source": [
    "# (Arabic) Recipe 5-5. Clustering Documents"
   ]
  },
  {
   "cell_type": "markdown",
   "metadata": {},
   "source": [
    "### import libraries"
   ]
  },
  {
   "cell_type": "code",
   "execution_count": 2,
   "metadata": {},
   "outputs": [],
   "source": [
    "# import numpy as np\n",
    "\n",
    "import pandas as pd\n",
    "import nltk\n",
    "from nltk.stem.snowball import SnowballStemmer\n",
    "\n",
    "#from bs4 import BeautifulSoup\n",
    "\n",
    "import re\n",
    "\n",
    "#import os\n",
    "#import codecs\n",
    "\n",
    "from sklearn import feature_extraction\n",
    "\n",
    "#import mpld3\n",
    "\n",
    "from sklearn.metrics.pairwise import cosine_similarity\n",
    "import matplotlib.pyplot as plt\n",
    "\n",
    "#import matplotlib as mpl\n",
    "\n",
    "from sklearn.manifold import MDS"
   ]
  },
  {
   "cell_type": "markdown",
   "metadata": {},
   "source": [
    "### import data"
   ]
  },
  {
   "cell_type": "code",
   "execution_count": 3,
   "metadata": {},
   "outputs": [],
   "source": [
    "Data = pd.read_csv(\"arabic_dataset_classifiction.csv\", encoding='utf-8')"
   ]
  },
  {
   "cell_type": "markdown",
   "metadata": {},
   "source": [
    "dataset source : [DataSet for Arabic Classification](https://data.mendeley.com/datasets/v524p5dhpj/2) <br>\n",
    "it is collected from 3 Arabic online newspapers: Assabah, Hespress and Akhbarona using semi-automatic web crawling process."
   ]
  },
  {
   "cell_type": "markdown",
   "metadata": {},
   "source": [
    "### Data understanding"
   ]
  },
  {
   "cell_type": "code",
   "execution_count": 4,
   "metadata": {},
   "outputs": [
    {
     "data": {
      "text/html": [
       "<div>\n",
       "<style scoped>\n",
       "    .dataframe tbody tr th:only-of-type {\n",
       "        vertical-align: middle;\n",
       "    }\n",
       "\n",
       "    .dataframe tbody tr th {\n",
       "        vertical-align: top;\n",
       "    }\n",
       "\n",
       "    .dataframe thead th {\n",
       "        text-align: right;\n",
       "    }\n",
       "</style>\n",
       "<table border=\"1\" class=\"dataframe\">\n",
       "  <thead>\n",
       "    <tr style=\"text-align: right;\">\n",
       "      <th></th>\n",
       "      <th>text</th>\n",
       "      <th>targe</th>\n",
       "    </tr>\n",
       "  </thead>\n",
       "  <tbody>\n",
       "    <tr>\n",
       "      <th>0</th>\n",
       "      <td>بين أستوديوهات ورزازات وصحراء مرزوكة وآثار ولي...</td>\n",
       "      <td>0</td>\n",
       "    </tr>\n",
       "    <tr>\n",
       "      <th>1</th>\n",
       "      <td>قررت النجمة الأمريكية أوبرا وينفري ألا يقتصر ع...</td>\n",
       "      <td>0</td>\n",
       "    </tr>\n",
       "    <tr>\n",
       "      <th>2</th>\n",
       "      <td>أخبارنا المغربية الوزاني تصوير الشملالي ألهب ا...</td>\n",
       "      <td>0</td>\n",
       "    </tr>\n",
       "    <tr>\n",
       "      <th>3</th>\n",
       "      <td>اخبارنا المغربية قال ابراهيم الراشدي محامي سعد...</td>\n",
       "      <td>0</td>\n",
       "    </tr>\n",
       "    <tr>\n",
       "      <th>4</th>\n",
       "      <td>تزال صناعة الجلود في المغرب تتبع الطريقة التقل...</td>\n",
       "      <td>0</td>\n",
       "    </tr>\n",
       "  </tbody>\n",
       "</table>\n",
       "</div>"
      ],
      "text/plain": [
       "                                                text  targe\n",
       "0  بين أستوديوهات ورزازات وصحراء مرزوكة وآثار ولي...      0\n",
       "1  قررت النجمة الأمريكية أوبرا وينفري ألا يقتصر ع...      0\n",
       "2  أخبارنا المغربية الوزاني تصوير الشملالي ألهب ا...      0\n",
       "3  اخبارنا المغربية قال ابراهيم الراشدي محامي سعد...      0\n",
       "4  تزال صناعة الجلود في المغرب تتبع الطريقة التقل...      0"
      ]
     },
     "execution_count": 4,
     "metadata": {},
     "output_type": "execute_result"
    }
   ],
   "source": [
    "Data.head()"
   ]
  },
  {
   "cell_type": "code",
   "execution_count": 5,
   "metadata": {},
   "outputs": [],
   "source": [
    "Data.rename(columns={\"targe\": \"Target\", \"text\": \"Text\"}, inplace = True)"
   ]
  },
  {
   "cell_type": "code",
   "execution_count": 6,
   "metadata": {},
   "outputs": [
    {
     "data": {
      "text/html": [
       "<div>\n",
       "<style scoped>\n",
       "    .dataframe tbody tr th:only-of-type {\n",
       "        vertical-align: middle;\n",
       "    }\n",
       "\n",
       "    .dataframe tbody tr th {\n",
       "        vertical-align: top;\n",
       "    }\n",
       "\n",
       "    .dataframe thead th {\n",
       "        text-align: right;\n",
       "    }\n",
       "</style>\n",
       "<table border=\"1\" class=\"dataframe\">\n",
       "  <thead>\n",
       "    <tr style=\"text-align: right;\">\n",
       "      <th></th>\n",
       "      <th>Text</th>\n",
       "      <th>Target</th>\n",
       "    </tr>\n",
       "  </thead>\n",
       "  <tbody>\n",
       "    <tr>\n",
       "      <th>0</th>\n",
       "      <td>بين أستوديوهات ورزازات وصحراء مرزوكة وآثار ولي...</td>\n",
       "      <td>0</td>\n",
       "    </tr>\n",
       "    <tr>\n",
       "      <th>1</th>\n",
       "      <td>قررت النجمة الأمريكية أوبرا وينفري ألا يقتصر ع...</td>\n",
       "      <td>0</td>\n",
       "    </tr>\n",
       "    <tr>\n",
       "      <th>2</th>\n",
       "      <td>أخبارنا المغربية الوزاني تصوير الشملالي ألهب ا...</td>\n",
       "      <td>0</td>\n",
       "    </tr>\n",
       "    <tr>\n",
       "      <th>3</th>\n",
       "      <td>اخبارنا المغربية قال ابراهيم الراشدي محامي سعد...</td>\n",
       "      <td>0</td>\n",
       "    </tr>\n",
       "    <tr>\n",
       "      <th>4</th>\n",
       "      <td>تزال صناعة الجلود في المغرب تتبع الطريقة التقل...</td>\n",
       "      <td>0</td>\n",
       "    </tr>\n",
       "  </tbody>\n",
       "</table>\n",
       "</div>"
      ],
      "text/plain": [
       "                                                Text  Target\n",
       "0  بين أستوديوهات ورزازات وصحراء مرزوكة وآثار ولي...       0\n",
       "1  قررت النجمة الأمريكية أوبرا وينفري ألا يقتصر ع...       0\n",
       "2  أخبارنا المغربية الوزاني تصوير الشملالي ألهب ا...       0\n",
       "3  اخبارنا المغربية قال ابراهيم الراشدي محامي سعد...       0\n",
       "4  تزال صناعة الجلود في المغرب تتبع الطريقة التقل...       0"
      ]
     },
     "execution_count": 6,
     "metadata": {},
     "output_type": "execute_result"
    }
   ],
   "source": [
    "Data.head()"
   ]
  },
  {
   "cell_type": "code",
   "execution_count": 7,
   "metadata": {},
   "outputs": [
    {
     "data": {
      "text/plain": [
       "(111728, 2)"
      ]
     },
     "execution_count": 7,
     "metadata": {},
     "output_type": "execute_result"
    }
   ],
   "source": [
    "Data.shape"
   ]
  },
  {
   "cell_type": "code",
   "execution_count": 8,
   "metadata": {},
   "outputs": [
    {
     "data": {
      "text/plain": [
       "array([0, 1, 2, 3, 4], dtype=int64)"
      ]
     },
     "execution_count": 8,
     "metadata": {},
     "output_type": "execute_result"
    }
   ],
   "source": [
    "Data['Target'].unique()"
   ]
  },
  {
   "cell_type": "code",
   "execution_count": 9,
   "metadata": {},
   "outputs": [
    {
     "data": {
      "text/plain": [
       "Text      object\n",
       "Target     int64\n",
       "dtype: object"
      ]
     },
     "execution_count": 9,
     "metadata": {},
     "output_type": "execute_result"
    }
   ],
   "source": [
    "Data.dtypes"
   ]
  },
  {
   "cell_type": "code",
   "execution_count": 10,
   "metadata": {},
   "outputs": [
    {
     "data": {
      "text/plain": [
       "'قالت إنها انتظرت خمس سنوات لتشارك في فد تي في قالت الفنانة بديعة الصنهاجي التي تتقمص دور عبلة في سيتكوم ديما جيران على شاشة القناة الثانية إن قلة أعمالها التلفزيونية راجعة إلى عدم تفكيرها في الاحتراف بعد تخرجها من معهد الفن المسرحي والتنشيط الثقافي وأضافت بديعة في تصريح الصباح أن دراستها المسرح لمدة سبع سنوات كانت من باب الهواية مشيرة إلى أنها ركزت أثناء دراستها على تجسيد أدوار باللغة الفرنسية لمسرحيات كلاسيكية لموليير وتشيكوف وكان أول ظهور لبديعة الصنهاجي على شاشة التلفزيون رفقة المخرج نور الدين لخماري في السلسلة البوليسية القضية »، التي تولى بعض أصدقائها مهمة اقتراحها للعمل فيها وأوضحت الصنهاجي بخصوص دورها في سلسلة القضية أنه من الشخصيات التي تعتز بتقمصها رغم أنه من الأدوار الثانوية مضيفة أن بحكم وظيفتها لم يكن ممكنا بالنسبة إليها الغياب لمدة طويلة عن العمل إن احتراف الفن أمر صعب وهذا ما جعلني بعيدة لعدة سنوات عنه كما أن ارتباطي بعملي في مجالي التسويق والاتصال في مجال الوكالات العقارية ساهم في ذلك »، تقول بديعة عن أسباب تأخرها في دخول المجال الفني وأكدت بديعة أنها من المعجبات بأداء الفنان حسن الفد فبعد عرض السلسلة الفكاهية شانيلي تي في سنة بحثت عن رقمه الهاتفي وطلبت منه باعتبارها طالبة بالمعهد المسرحي أن يسند إليها أحد الأدوار في عمل جديد وانتظرت الفنانة بديعة الصنهاجي خمس سنوات بعد تلقيها وعدا من الفنان حسن الفد على العمل رفقته مؤكدة في هذا الصدد أنه لم يكن مهما بالنسبة إليها العمل من أجل الظهور والانتشار أو البحث عن ربح مالي بقدر ما كان تقديم عمل مميز ووصفت بديعة تجربتها مع الفنان حسن الفد في سلسلة فد تي في بالمهمة إذ قدمت ضمنها أدوارا كان من الممكن أن تؤديها على مدار عشر سنوات إذ في كل حلقة كانت تتقمص شخصيتين أو ثلاث شخصيات ووجدت الفنانة بديعة الصنهاجي نفسها أمام اختيار صعب حين عرض عليها العمل في مسلسل زينة الحياة »، الذي يعرض حاليا على شاشة القناة الأولى »، لكنها حسمت الأمر واختارت التخلي عن وظيفتها والتفرغ بشكل نهائي لمجال التمثيل خاصة أن تصوير دورها استغرق أربعة أشهر وعن دورها في سيتكوم ديما جيران »، تقول إن عبلة من الشخصيات الفكاهية التي لم تكن تتوانى أثناء تقمصها في أخذ رأي الطاقم الفني والتقني للعمل حول أدائها لها وملاحظاتهم حولها مضيفة أنها دائما كان ينتابها شك وهو أمر إيجابي بالنسبة إلى أي فنان على حد قولها يرغب في تطوير مستواه وتقديم الأفضل أمينة كندي'"
      ]
     },
     "execution_count": 10,
     "metadata": {},
     "output_type": "execute_result"
    }
   ],
   "source": [
    "Data[Data['Target'] == 0].Text.iloc[350]"
   ]
  },
  {
   "cell_type": "markdown",
   "metadata": {},
   "source": [
    "by observing the content, i realized that the labels are represntative of the following <br>\n",
    "- 0 celebrities <br>\n",
    "- 1 crimes <br>\n",
    "- 2 economy <br>\n",
    "- 3 politics <br>\n",
    "- 4 sports"
   ]
  },
  {
   "cell_type": "code",
   "execution_count": 11,
   "metadata": {},
   "outputs": [],
   "source": [
    "categories = {\n",
    "              0 : 'celebrities', \n",
    "              1 : 'crimes', \n",
    "              2 : 'economy', \n",
    "              3 : 'politics', \n",
    "              4 : 'sports'\n",
    "             }"
   ]
  },
  {
   "cell_type": "code",
   "execution_count": 12,
   "metadata": {},
   "outputs": [],
   "source": [
    "# Selecting non null data\n",
    "Data = Data[pd.notnull(Data['Text'])]"
   ]
  },
  {
   "cell_type": "code",
   "execution_count": 13,
   "metadata": {},
   "outputs": [
    {
     "data": {
      "text/plain": [
       "(108789, 2)"
      ]
     },
     "execution_count": 13,
     "metadata": {},
     "output_type": "execute_result"
    }
   ],
   "source": [
    "Data.shape"
   ]
  },
  {
   "cell_type": "code",
   "execution_count": 14,
   "metadata": {},
   "outputs": [
    {
     "data": {
      "text/plain": [
       "Target\n",
       "4    43675\n",
       "3    20485\n",
       "1    16728\n",
       "2    14165\n",
       "0    13736\n",
       "Name: Text, dtype: int64"
      ]
     },
     "execution_count": 14,
     "metadata": {},
     "output_type": "execute_result"
    }
   ],
   "source": [
    "Data.groupby('Target').Text.count().sort_values(ascending=False)"
   ]
  },
  {
   "cell_type": "code",
   "execution_count": 15,
   "metadata": {},
   "outputs": [
    {
     "data": {
      "image/png": "[encoded data removed]",
      "text/plain": [
       "<Figure size 288x216 with 1 Axes>"
      ]
     },
     "metadata": {
      "needs_background": "light"
     },
     "output_type": "display_data"
    }
   ],
   "source": [
    "# Lets plot it and see\n",
    "\n",
    "import matplotlib.pyplot as plt\n",
    "\n",
    "fig = plt.figure(figsize=(4,3))\n",
    "Data.groupby('Target').Text.count().sort_values(ascending=False).plot(kind='barh') # for each product, how many complaints\n",
    "ax = plt.gca()\n",
    "\n",
    "labels = []\n",
    "for item in ax.get_yticklabels():\n",
    "    labels.append(categories[int(item.get_text())])\n",
    "ax.set_yticklabels(labels) # note below\n",
    "plt.show()"
   ]
  },
  {
   "cell_type": "markdown",
   "metadata": {},
   "source": [
    "- **note:** in the previous cell, i couldnot just make `ax.set_yticklabels(categories.values())` b/c the order of the label in the returned list (from the previous instruction) will be different than the actual order of labels that should be shown on the plot\n",
    "    - note that this mismatch of labels happens due to the sorting operation in the previous cell"
   ]
  },
  {
   "cell_type": "code",
   "execution_count": 16,
   "metadata": {},
   "outputs": [],
   "source": [
    "# lets do the clustering for just 200 documents. Its easier to interpret.\n",
    "# i will take 200/5 = 40 samples from each class \n",
    "\n",
    "sample_1 = Data[Data['Target'] == 0].sample(n=40)\n",
    "sample_2 = Data[Data['Target'] == 1].sample(n=40)\n",
    "sample_3 = Data[Data['Target'] == 2].sample(n=40)\n",
    "sample_4 = Data[Data['Target'] == 3].sample(n=40)\n",
    "sample_5 = Data[Data['Target'] == 4].sample(n=40)\n",
    "\n",
    "\n",
    "# Here we recreate a 'balanced' dataset.\n",
    "Data_sample = pd.concat([sample_1, sample_2, sample_3, sample_4, sample_5],axis=0)\n",
    "Data_sample.reset_index(drop=True, inplace=True)"
   ]
  },
  {
   "cell_type": "code",
   "execution_count": 17,
   "metadata": {},
   "outputs": [
    {
     "data": {
      "text/plain": [
       "(200, 2)"
      ]
     },
     "execution_count": 17,
     "metadata": {},
     "output_type": "execute_result"
    }
   ],
   "source": [
    "Data_sample.shape"
   ]
  },
  {
   "cell_type": "markdown",
   "metadata": {},
   "source": [
    "### Preprocessing "
   ]
  },
  {
   "cell_type": "code",
   "execution_count": 18,
   "metadata": {},
   "outputs": [],
   "source": [
    "# remove stop words\n",
    "from nltk.corpus import stopwords\n",
    "stop = stopwords.words('arabic')\n",
    "\n",
    "Data_sample['Text'] = Data_sample['Text'].apply(lambda x: \" \".join(x for x in x.split() if x not in stop))"
   ]
  },
  {
   "cell_type": "code",
   "execution_count": 19,
   "metadata": {},
   "outputs": [],
   "source": [
    "# remove punctuation and multiple spaces\n",
    "\n",
    "import re\n",
    "\n",
    "pattern_punctuation = '[^a-zA-z0-9ء-ي\\s]' # for punctuation (not numeric nor arabic nor english letters)\n",
    "pattern_multi_spaces = '[ ]{2,}'\n",
    "\n",
    "Data_sample['Text'] = Data_sample['Text'].apply(lambda x: re.sub(pattern_punctuation, '' , x))\n",
    "Data_sample['Text'] = Data_sample['Text'].apply(lambda x: re.sub(pattern_multi_spaces, ' ' , x))"
   ]
  },
  {
   "cell_type": "code",
   "execution_count": 20,
   "metadata": {},
   "outputs": [],
   "source": [
    "# stemming \n",
    "\n",
    "# Load 'stemmer'\n",
    "stemmer = SnowballStemmer(\"arabic\")\n",
    "Data_sample['Text'] = Data_sample['Text'].apply(lambda sentence: ' '.join([stemmer.stem(word) for word in sentence.split()]))"
   ]
  },
  {
   "cell_type": "markdown",
   "metadata": {},
   "source": [
    "### TF-IDF feature engineering"
   ]
  },
  {
   "cell_type": "code",
   "execution_count": 37,
   "metadata": {},
   "outputs": [
    {
     "name": "stdout",
     "output_type": "stream",
     "text": [
      "(200, 57)\n"
     ]
    }
   ],
   "source": [
    "# Convert dataframe to list\n",
    "news = Data_sample['Text'].tolist()\n",
    "\n",
    "# create the rank of documents – we will use it later\n",
    "ranks = [i for i in range(1, len(news)+1)] # a list from 1 to 200\n",
    "\n",
    "\n",
    "\n",
    "                                                   \n",
    "from sklearn.feature_extraction.text import TfidfVectorizer\n",
    "\n",
    "# tfidf vectorizer\n",
    "tfidf_vectorizer = TfidfVectorizer( analyzer='word', \n",
    "                                    max_df=0.8, max_features=200000, \\\n",
    "                                    min_df=0.2, \\\n",
    "                                    token_pattern=r'\\w{1,}', \\\n",
    "                                    ngram_range=(1,3))\n",
    "\n",
    "#fit the vectorizer to data\n",
    "tfidf_matrix = tfidf_vectorizer.fit_transform(news)\n",
    "terms = tfidf_vectorizer.get_feature_names() #features\n",
    "print(tfidf_matrix.shape)                                         "
   ]
  },
  {
   "cell_type": "markdown",
   "metadata": {},
   "source": [
    "200 example, each will go through an equation of for 57 (parameters)/ features /(n-grams)"
   ]
  },
  {
   "cell_type": "markdown",
   "metadata": {},
   "source": [
    "### Clustering using K-means"
   ]
  },
  {
   "cell_type": "code",
   "execution_count": 24,
   "metadata": {},
   "outputs": [
    {
     "data": {
      "text/plain": [
       "4    66\n",
       "3    49\n",
       "1    44\n",
       "2    21\n",
       "0    20\n",
       "Name: cluster, dtype: int64"
      ]
     },
     "execution_count": 24,
     "metadata": {},
     "output_type": "execute_result"
    }
   ],
   "source": [
    "#Import Kmeans\n",
    "from sklearn.cluster import KMeans\n",
    "\n",
    "# Define number of clusters\n",
    "num_clusters = 5\n",
    "\n",
    "#Running clustering algorithm\n",
    "km = KMeans(n_clusters=num_clusters)\n",
    "km.fit(tfidf_matrix)\n",
    "\n",
    "#final clusters\n",
    "clusters = km.labels_.tolist()\n",
    "news_data = { 'rank': ranks, 'news': news, 'cluster': clusters }\n",
    "frame = pd.DataFrame(news_data, index = [clusters], columns = ['rank', 'cluster'])\n",
    "\n",
    "#number of docs per cluster\n",
    "frame['cluster'].value_counts()"
   ]
  },
  {
   "cell_type": "code",
   "execution_count": 27,
   "metadata": {},
   "outputs": [
    {
     "data": {
      "text/plain": [
       "array([2, 1, 4, 0, 3], dtype=int64)"
      ]
     },
     "execution_count": 27,
     "metadata": {},
     "output_type": "execute_result"
    }
   ],
   "source": [
    "frame['cluster'].unique()\n"
   ]
  },
  {
   "cell_type": "code",
   "execution_count": 30,
   "metadata": {},
   "outputs": [
    {
     "data": {
      "text/plain": [
       "200"
      ]
     },
     "execution_count": 30,
     "metadata": {},
     "output_type": "execute_result"
    }
   ],
   "source": [
    "len(km.labels_)"
   ]
  },
  {
   "cell_type": "code",
   "execution_count": 40,
   "metadata": {},
   "outputs": [
    {
     "data": {
      "text/plain": [
       "5"
      ]
     },
     "execution_count": 40,
     "metadata": {},
     "output_type": "execute_result"
    }
   ],
   "source": [
    "len(km.cluster_centers_)"
   ]
  },
  {
   "cell_type": "code",
   "execution_count": 42,
   "metadata": {},
   "outputs": [
    {
     "data": {
      "text/plain": [
       "57"
      ]
     },
     "execution_count": 42,
     "metadata": {},
     "output_type": "execute_result"
    }
   ],
   "source": [
    "len(km.cluster_centers_[0])"
   ]
  },
  {
   "cell_type": "markdown",
   "metadata": {},
   "source": [
    "each cluster center is a vector of dimension 57. let's look at them"
   ]
  },
  {
   "cell_type": "code",
   "execution_count": 41,
   "metadata": {
    "scrolled": true
   },
   "outputs": [
    {
     "data": {
      "text/plain": [
       "array([[0.03248527, 0.02189102, 0.04954796, 0.04621247, 0.01531446,\n",
       "        0.03022352, 0.07606406, 0.02664715, 0.02883105, 0.05435795,\n",
       "        0.06404077, 0.00560683, 0.09533807, 0.06541311, 0.06912338,\n",
       "        0.03910158, 0.0169257 , 0.06106175, 0.07461952, 0.06513898,\n",
       "        0.05394055, 0.1850029 , 0.02201267, 0.03945411, 0.        ,\n",
       "        0.03032348, 0.09973852, 0.        , 0.41345487, 0.02322707,\n",
       "        0.03085142, 0.01148653, 0.06736626, 0.03685044, 0.01441734,\n",
       "        0.03196861, 0.00794861, 0.01935987, 0.01604061, 0.0436571 ,\n",
       "        0.0624836 , 0.07886131, 0.08163429, 0.05336237, 0.07973041,\n",
       "        0.05532229, 0.07107651, 0.07633935, 0.06417358, 0.00691475,\n",
       "        0.14456835, 0.05150122, 0.03151827, 0.03111549, 0.0313129 ,\n",
       "        0.06412423, 0.11365917],\n",
       "       [0.04213921, 0.08225302, 0.1011664 , 0.03242434, 0.04521476,\n",
       "        0.05325476, 0.05498726, 0.04789464, 0.03317994, 0.05134117,\n",
       "        0.09187863, 0.07956282, 0.17473456, 0.0562845 , 0.01347864,\n",
       "        0.02942511, 0.06623244, 0.11208413, 0.07233694, 0.01900417,\n",
       "        0.02446614, 0.05187189, 0.11746816, 0.0623555 , 0.03688131,\n",
       "        0.01737595, 0.08352754, 0.03773642, 0.04906848, 0.01347754,\n",
       "        0.0504747 , 0.02875529, 0.12563702, 0.03868588, 0.0512916 ,\n",
       "        0.01150934, 0.01631733, 0.03678501, 0.05003927, 0.08799784,\n",
       "        0.05081968, 0.14506153, 0.04049222, 0.23531532, 0.06427755,\n",
       "        0.04750685, 0.026528  , 0.06540047, 0.12622108, 0.02509833,\n",
       "        0.06231893, 0.08937648, 0.10737666, 0.03261282, 0.03213611,\n",
       "        0.04673001, 0.04968995],\n",
       "       [0.04022474, 0.07549442, 0.01233964, 0.01567328, 0.02955224,\n",
       "        0.05469431, 0.03136409, 0.12780223, 0.00761787, 0.03565505,\n",
       "        0.00455713, 0.00581461, 0.0591016 , 0.03877285, 0.09473256,\n",
       "        0.01488229, 0.0591254 , 0.1281905 , 0.06595589, 0.03141201,\n",
       "        0.13671052, 0.0846381 , 0.00987819, 0.12014159, 0.05834514,\n",
       "        0.07213783, 0.09695884, 0.0603596 , 0.01429784, 0.12403968,\n",
       "        0.03879899, 0.03743803, 0.06316841, 0.02500153, 0.02817128,\n",
       "        0.0336788 , 0.08025769, 0.01795972, 0.02523058, 0.09037461,\n",
       "        0.03270593, 0.04316418, 0.02610497, 0.04523117, 0.05969366,\n",
       "        0.08470771, 0.36712674, 0.03631061, 0.05583068, 0.01877257,\n",
       "        0.1812466 , 0.02182753, 0.05236054, 0.0781305 , 0.02737323,\n",
       "        0.        , 0.05561963],\n",
       "       [0.01942286, 0.03385299, 0.01998548, 0.14823338, 0.02237034,\n",
       "        0.05485621, 0.03316226, 0.06738089, 0.07722485, 0.02550049,\n",
       "        0.01914127, 0.03660043, 0.05499785, 0.0427006 , 0.02573712,\n",
       "        0.05734997, 0.03539981, 0.02900211, 0.01602149, 0.04271327,\n",
       "        0.08124485, 0.02935756, 0.05003479, 0.05037021, 0.05635922,\n",
       "        0.09926833, 0.09416048, 0.04557489, 0.01703434, 0.158298  ,\n",
       "        0.04581378, 0.0673982 , 0.03069302, 0.04925023, 0.0641337 ,\n",
       "        0.03546729, 0.07085811, 0.02344829, 0.02811132, 0.0562305 ,\n",
       "        0.10466768, 0.04623803, 0.02729066, 0.04837146, 0.05037681,\n",
       "        0.02286154, 0.02839896, 0.03810286, 0.01218532, 0.03646178,\n",
       "        0.43087902, 0.06187454, 0.02032888, 0.06126688, 0.08151875,\n",
       "        0.04161756, 0.09416979],\n",
       "       [0.07625192, 0.06911944, 0.03239008, 0.03189264, 0.05238474,\n",
       "        0.03521156, 0.03985724, 0.04948884, 0.0405588 , 0.05559093,\n",
       "        0.05081613, 0.0485992 , 0.06135616, 0.08041949, 0.04950048,\n",
       "        0.04438371, 0.02250466, 0.03844403, 0.05494742, 0.05880513,\n",
       "        0.088595  , 0.04559348, 0.05235347, 0.03712105, 0.04560174,\n",
       "        0.04957243, 0.08778516, 0.08297448, 0.03283476, 0.04532458,\n",
       "        0.0393768 , 0.13077023, 0.02493811, 0.03541411, 0.18496138,\n",
       "        0.10510615, 0.05498771, 0.11209904, 0.04224336, 0.09362041,\n",
       "        0.05809232, 0.04832093, 0.04813506, 0.04546798, 0.02916874,\n",
       "        0.06643179, 0.02317477, 0.07663097, 0.05336675, 0.09749424,\n",
       "        0.0679103 , 0.06294588, 0.05699203, 0.02328545, 0.15833088,\n",
       "        0.05722885, 0.09984957]])"
      ]
     },
     "execution_count": 41,
     "metadata": {},
     "output_type": "execute_result"
    }
   ],
   "source": [
    "km.cluster_centers_"
   ]
  },
  {
   "cell_type": "markdown",
   "metadata": {},
   "source": [
    "### Identify cluster behavior"
   ]
  },
  {
   "cell_type": "markdown",
   "metadata": {},
   "source": [
    "Identify which are the top 5 words that are nearest to the cluster centroid."
   ]
  },
  {
   "cell_type": "code",
   "execution_count": 180,
   "metadata": {},
   "outputs": [],
   "source": [
    "import numpy as np\n",
    "\n",
    "def euclidean_distance(u, v):\n",
    "    return np.linalg.norm(u - v)\n",
    "\n",
    "\n",
    "def idx_top_n_nearest_points_to_centroid(idx_points, points_matrix, centroid, n):\n",
    "    num_examples = points_matrix.shape[0]\n",
    "    distances = []\n",
    "    for i in range(num_examples): # in range(200)\n",
    "        dist = 100000# very large number so that the elements that does not belong to the class is not considered as near points\n",
    "        if i in idx_points:\n",
    "            dist = euclidean_distance(points_matrix[i], centroid)\n",
    "        distances.append(dist)\n",
    "    \n",
    "    sorted_distances = distances.copy()\n",
    "    sorted_distances.sort()\n",
    "        \n",
    "    indices_of_nearst_points= []\n",
    "    for i in range(n):\n",
    "        indices_of_nearst_points.append(distances.index(sorted_distances[0]))\n",
    "        sorted_distances.pop(0)\n",
    "        \n",
    "    return indices_of_nearst_points\n",
    "        "
   ]
  },
  {
   "cell_type": "code",
   "execution_count": 181,
   "metadata": {},
   "outputs": [],
   "source": [
    "def idx_points_of_class(class_value, labels):\n",
    "    indices = []\n",
    "    for i in range(len(labels)):\n",
    "        if labels[i] == class_value:\n",
    "            indices.append(i)\n",
    "    \n",
    "    return indices"
   ]
  },
  {
   "cell_type": "code",
   "execution_count": 197,
   "metadata": {},
   "outputs": [
    {
     "name": "stdout",
     "output_type": "stream",
     "text": [
      "top word in top doc in class  0\n",
      "دور\n",
      "\n",
      "\n",
      "top word in top doc in class  1\n",
      "انه\n",
      "\n",
      "\n",
      "top word in top doc in class  2\n",
      "مجموع\n",
      "\n",
      "\n",
      "top word in top doc in class  3\n",
      "مغرب\n",
      "\n",
      "\n",
      "top word in top doc in class  4\n",
      "رييس\n",
      "\n",
      "\n"
     ]
    }
   ],
   "source": [
    "for i in range(num_clusters): \n",
    "    \n",
    "    class_idx_points = idx_points_of_class(i, km.labels_)\n",
    "    idx_nearest_example  = idx_top_n_nearest_points_to_centroid(class_idx_points, tfidf_matrix, km.cluster_centers_[i], 1)\n",
    "        \n",
    "    print('top word in top document in class ', i)\n",
    "    \n",
    "    # top word in the nearest example\n",
    "    dense = tfidf_matrix[idx_nearest_example].toarray()\n",
    "    nearest_example = list(tfidf_matrix[idx_nearest_example].toarray()[0])\n",
    "    idx_of_top_word = nearest_example.index(max(nearest_example))\n",
    "\n",
    "    print(tfidf_vectorizer.get_feature_names()[idx_of_top_word])\n",
    "        \n",
    "    print()\n",
    "    print()\n"
   ]
  },
  {
   "cell_type": "markdown",
   "metadata": {},
   "source": [
    "### Plot the clusters on a 2D graph"
   ]
  },
  {
   "cell_type": "code",
   "execution_count": 124,
   "metadata": {},
   "outputs": [],
   "source": [
    "# import moduls for appropriate arabic text plotting with matplotlib\n",
    "import arabic_reshaper\n",
    "from bidi.algorithm import get_display"
   ]
  },
  {
   "cell_type": "code",
   "execution_count": 198,
   "metadata": {},
   "outputs": [
    {
     "name": "stderr",
     "output_type": "stream",
     "text": [
      "D:\\ProgramData\\Anaconda3\\lib\\site-packages\\matplotlib\\cbook\\deprecation.py:107: MatplotlibDeprecationWarning: Passing one of 'on', 'true', 'off', 'false' as a boolean is deprecated; use an actual boolean (True/False) instead.\n",
      "  warnings.warn(message, mplDeprecation, stacklevel=1)\n"
     ]
    },
    {
     "data": {
      "image/png": "[encoded data removed]",
      "text/plain": [
       "<Figure size 1224x648 with 1 Axes>"
      ]
     },
     "metadata": {},
     "output_type": "display_data"
    }
   ],
   "source": [
    "#Similarity\n",
    "similarity_distance = 1 - cosine_similarity(tfidf_matrix)\n",
    "\n",
    "# Convert two components as we're plotting points in a two-dimensional plane\n",
    "mds = MDS(n_components=2, dissimilarity=\"precomputed\", random_state=1)\n",
    "pos = mds.fit_transform(similarity_distance) # shape (n_components, n_samples)\n",
    "xs, ys = pos[:, 0], pos[:, 1]\n",
    "\n",
    "#Set up colors per clusters using a dict\n",
    "cluster_colors = {0: '#1b9e77', 1: '#d95f02', 2: '#7570b3', 3: '#e7298a', 4: '#66a61e', 5: '#D2691E'}\n",
    "\n",
    "#set up cluster names using a dict\n",
    "cluster_names = {0: get_display(arabic_reshaper.reshape('دور')), \n",
    "                 1: get_display(arabic_reshaper.reshape('انه')), \n",
    "                 2: get_display(arabic_reshaper.reshape('مجموع')), \n",
    "                 3: get_display(arabic_reshaper.reshape('مغرب')),\n",
    "                 4: get_display(arabic_reshaper.reshape('رييس'))}\n",
    "\n",
    "# Finally plot it\n",
    "%matplotlib inline\n",
    "\n",
    "#Create data frame that has the result of the MDS and the cluster\n",
    "df = pd.DataFrame(dict(x=xs, y=ys, label=clusters))\n",
    "groups = df.groupby('label')\n",
    "\n",
    "# Set up plot\n",
    "fig, ax = plt.subplots(figsize=(17, 9)) # set size\n",
    "\n",
    "for name, group in groups:\n",
    "    ax.scatter(group.x, group.y, marker='o', s=200,  label=cluster_names[name], color=cluster_colors[name], edgecolors= 'k')\n",
    "    \n",
    "ax.set_aspect('auto')\n",
    "ax.tick_params( axis= 'x', which='both', bottom='off', top='off', labelbottom='off')\n",
    "ax.tick_params(axis= 'y', which='both', left='off', top='off', labelleft='off')\n",
    "ax.legend(numpoints=1)\n",
    "plt.show()"
   ]
  },
  {
   "cell_type": "markdown",
   "metadata": {},
   "source": [
    "That’s it. I have clustered 200 complaints into 5 groups using\n",
    "K-means clustering. I can also use the word embeddings and solve this\n",
    "to achieve better clusters. 2D graphs provide a good look into the cluster's\n",
    "behavior and if we look, we will see that the same color dots (docs) are\n",
    "located closer to each other."
   ]
  },
  {
   "cell_type": "markdown",
   "metadata": {},
   "source": [
    "### further iterations for improvement:\n",
    "- try differnet n-grams and different options for the tfidf\n",
    "- try to apply spelling correction before converting the words to features\n",
    "- use different feature representation\n",
    "    - bag of words\n",
    "    - word embeddings\n",
    "    - character embeddings"
   ]
  }
 ],
 "metadata": {
  "kernelspec": {
   "display_name": "Python 3",
   "language": "python",
   "name": "python3"
  },
  "language_info": {
   "codemirror_mode": {
    "name": "ipython",
    "version": 3
   },
   "file_extension": ".py",
   "mimetype": "text/x-python",
   "name": "python",
   "nbconvert_exporter": "python",
   "pygments_lexer": "ipython3",
   "version": "3.7.0"
  }
 },
 "nbformat": 4,
 "nbformat_minor": 2
}
